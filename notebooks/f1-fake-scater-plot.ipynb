{
 "cells": [
  {
   "cell_type": "code",
   "execution_count": 77,
   "id": "fdcf4e14-bae2-4958-a71a-03ae632e572f",
   "metadata": {},
   "outputs": [
    {
     "data": {
      "image/png": "[encoded data removed]",
      "text/plain": [
       "<Figure size 1152x288 with 4 Axes>"
      ]
     },
     "metadata": {
      "needs_background": "light"
     },
     "output_type": "display_data"
    }
   ],
   "source": [
    "import matplotlib.pyplot as plt\n",
    "import numpy as np\n",
    "\n",
    "# Data: F1$_\\text{\\textcolor{red}{F}}$ values from the table\n",
    "models = [\"SP\", \"SFT\", \"BCO\", \"CPO\", \"CPO**\"]\n",
    "\n",
    "# FakeHealth and ReCOVery F1$_\\text{\\textcolor{red}{F}}$ values for each model\n",
    "data = {\n",
    "    \"Qwen2.5-0.5B\": {\n",
    "        \"FakeHealth_F1\": [39.91, 44.27, 50.17, 58.65, 60.28],\n",
    "        \"ReCOVery_F1\": [43.26, 34.75, 94.70, 88.02, 92.35],\n",
    "    },\n",
    "    \"Falcon3-3B\": {\n",
    "        \"FakeHealth_F1\": [33.18, 48.54, 54.41, 57.94, 59.19],\n",
    "        \"ReCOVery_F1\": [50.48, 90.79, 96.91, 91.58, 93.37],\n",
    "    },\n",
    "    \"LLaMA-3.2-1B\": {\n",
    "        \"FakeHealth_F1\": [6.79, 38.62, 49.64, 43.67, 53.92],\n",
    "        \"ReCOVery_F1\": [20.53, 75.72, 93.93, 92.69, 93.97],\n",
    "    },\n",
    "    \"Phi-3.5-Mini\": {\n",
    "        \"FakeHealth_F1\": [2.12, 54.54, 50.63, 64.78, 64.72],\n",
    "        \"ReCOVery_F1\": [20.83, 90.26, 96.61, 92.83, 95.32],\n",
    "    },\n",
    "}\n",
    "\n",
    "# Create the subplots (1 row, 4 columns)\n",
    "fig, axes = plt.subplots(1, 4, figsize=(16, 4), sharey=True)\n",
    "\n",
    "# Plotting each LLM's data\n",
    "for i, model_name in enumerate(data.keys()):\n",
    "    # Get the corresponding F1 values for FakeHealth and ReCOVery\n",
    "    fakehealth_f1 = data[model_name][\"FakeHealth_F1\"]\n",
    "    recovey_f1 = data[model_name][\"ReCOVery_F1\"]\n",
    "    \n",
    "    # Scatter plot for FakeHealth in blue and ReCOVery in red\n",
    "    axes[i].scatter(models, fakehealth_f1, color='blue', label='FakeHealth', s=25, marker='o')\n",
    "    axes[i].scatter(models, recovey_f1, color='red', label='ReCOVery', s=25, marker='o')\n",
    "    \n",
    "    # Set labels and title for each subplot\n",
    "    # axes[i].set_ylabel('F1$_\\text{\\textcolor{red}{F}}$', fontsize=12)\n",
    "    axes[i].set_title(f'{model_name}', fontsize=12)\n",
    "    # axes[i].set_ylim(0, 100)  # Limiting y-axis from 0 to 100 for better scaling\n",
    "    # axes[i].legend(title='Task')\n",
    "    axes[i].tick_params(axis='x', labelsize=12)\n",
    "    \n",
    "plt.ylim(0, 100)\n",
    "# Adjust layout for better spacing\n",
    "# Adjust layout for better spacing\n",
    "plt.subplots_adjust(wspace=0.09)\n",
    "plt.savefig(\"f1-fake-scatter-plot.pdf\", format=\"pdf\", bbox_inches='tight')\n",
    "plt.show()\n"
   ]
  },
  {
   "cell_type": "code",
   "execution_count": 153,
   "id": "28feded5-95e8-4591-bdee-6d17af8ac420",
   "metadata": {},
   "outputs": [
    {
     "data": {
      "image/png": "[encoded data removed]",
      "text/plain": [
       "<Figure size 504x288 with 1 Axes>"
      ]
     },
     "metadata": {
      "needs_background": "light"
     },
     "output_type": "display_data"
    }
   ],
   "source": [
    "import matplotlib.pyplot as plt\n",
    "import numpy as np\n",
    "from matplotlib.lines import Line2D\n",
    "\n",
    "# Data: F1$_\\text{\\textcolor{red}{F}}$ values from the table\n",
    "models = [\"SP\", \"SFT\", \"BCO\", \"CPO\", \"CPO**\"]\n",
    "\n",
    "# FakeHealth and ReCOVery F1$_\\text{\\textcolor{red}{F}}$ values for each model\n",
    "data = {\n",
    "    \"Qwen2.5-0.5B\": {\n",
    "        \"FakeHealth_F1\": [39.91, 44.27, 50.17, 58.65, 60.28],\n",
    "        \"ReCOVery_F1\": [43.26, 34.75, 94.70, 88.02, 92.35],\n",
    "    },\n",
    "    \"Falcon3-3B\": {\n",
    "        \"FakeHealth_F1\": [33.18, 48.54, 54.41, 57.94, 59.19],\n",
    "        \"ReCOVery_F1\": [50.48, 90.79, 96.91, 91.58, 93.37],\n",
    "    },\n",
    "    \"LLaMA-3.2-1B\": {\n",
    "        \"FakeHealth_F1\": [6.79, 38.62, 49.64, 43.67, 53.92],\n",
    "        \"ReCOVery_F1\": [20.53, 75.72, 93.93, 92.69, 93.97],\n",
    "    },\n",
    "    \"Phi-3.5-Mini\": {\n",
    "        \"FakeHealth_F1\": [2.12, 54.54, 50.63, 64.78, 64.72],\n",
    "        \"ReCOVery_F1\": [20.83, 90.26, 96.61, 92.83, 95.32],\n",
    "    },\n",
    "}\n",
    "\n",
    "# Create the figure\n",
    "fig, ax = plt.subplots(figsize=(7, 4))\n",
    "\n",
    "# Plotting all LLMs' data on the same plot\n",
    "for model_name, values in data.items():\n",
    "    fakehealth_f1 = values[\"FakeHealth_F1\"]\n",
    "    recovey_f1 = values[\"ReCOVery_F1\"]\n",
    "    \n",
    "    # Choose color and marker for Qwen2.5-0.5B (highlighted)\n",
    "    if model_name == \"Qwen2.5-0.5B\":\n",
    "        ax.scatter(models, fakehealth_f1, color='blue',   s=25, marker='D')  # Diamond marker for Qwen\n",
    "        ax.scatter(models, recovey_f1, color='red',  s=25, marker='D')\n",
    "    elif model_name == \"Falcon3-3B\":\n",
    "        ax.scatter(models, fakehealth_f1, color='blue',  s=25, marker='o')  # Diamond marker for Qwen\n",
    "        ax.scatter(models, recovey_f1, color='red',  s=25, marker='o')\n",
    "    elif model_name == \"Phi-3.5-Mini\":\n",
    "        ax.scatter(models, fakehealth_f1, color='blue',  s=25, marker='s')  # Diamond marker for Qwen\n",
    "        ax.scatter(models, recovey_f1, color='red',   s=25, marker='s')\n",
    "    else:\n",
    "        ax.scatter(models, fakehealth_f1, color='blue', s=25, marker='>')  # Circle marker for others\n",
    "        ax.scatter(models, recovey_f1, color='red', s=25, marker='>')\n",
    "\n",
    "# Add labels and title\n",
    "# ax.set_xlabel('Models', fontsize=14)\n",
    "# ax.set_ylabel('F1$_\\text{\\textcolor{red}{F}}$', fontsize=14)\n",
    "# ax.set_title('F1 Scores for FakeHealth and ReCOVery Tasks', fontsize=16)\n",
    "\n",
    "# Set y-axis limit\n",
    "ax.set_ylim(0, 100)\n",
    "ax.tick_params(axis='x', labelsize=12)\n",
    "# Manually adding the legend\n",
    "legend_elements = [Line2D([0], [0], marker='D', color='w', markerfacecolor='black', markersize=7, label='Qwen2.5'),\n",
    "                   Line2D([0], [0], marker='o', color='w', markerfacecolor='black', markersize=7, label='Falcon3'),\n",
    "                   Line2D([0], [0], marker='s', color='w', markerfacecolor='black', markersize=7, label='Phi-3.5'),\n",
    "                   Line2D([0], [0], marker='>', color='w', markerfacecolor='black', markersize=7, label='LLaMA-3.2'),\n",
    "                   # Line2D([0], [0], color='red', markersize=7, label='FakeHealth'),\n",
    "                   # Line2D([0], [0], color='blue', markersize=7, label='ReCOVery')\n",
    "                  ]\n",
    "\n",
    "# Add the legend to the entire figure below the plots\n",
    "fig.legend(handles=legend_elements, loc='upper center', bbox_to_anchor=(0.5, 0.03), ncol=6, fontsize=12)\n",
    "\n",
    "\n",
    "# ax.legend(title='Task', bbox_to_anchor=(0.5, -0.2), loc='upper center', ncol=4, fontsize=10)\n",
    "\n",
    "# Add legend\n",
    "# ax.legend(title='Model and Task', fontsize=12)\n",
    "\n",
    "# Adjust layout and save the plot as a PDF\n",
    "plt.tight_layout()\n",
    "plt.savefig(\"f1-fake-scatter-plot.pdf\", format=\"pdf\", bbox_inches='tight')\n",
    "plt.show()\n"
   ]
  },
  {
   "cell_type": "code",
   "execution_count": null,
   "id": "97141bd1-1ccf-4f35-9673-68381d4016d1",
   "metadata": {},
   "outputs": [],
   "source": []
  },
  {
   "cell_type": "code",
   "execution_count": null,
   "id": "47f7a19c-cb44-4f62-9e93-67ecdba2a531",
   "metadata": {},
   "outputs": [],
   "source": []
  }
 ],
 "metadata": {
  "kernelspec": {
   "display_name": "Python 3",
   "language": "python",
   "name": "python3"
  },
  "language_info": {
   "codemirror_mode": {
    "name": "ipython",
    "version": 3
   },
   "file_extension": ".py",
   "mimetype": "text/x-python",
   "name": "python",
   "nbconvert_exporter": "python",
   "pygments_lexer": "ipython3",
   "version": "3.9.16"
  }
 },
 "nbformat": 4,
 "nbformat_minor": 5
}
