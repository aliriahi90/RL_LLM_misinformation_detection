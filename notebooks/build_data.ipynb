{
 "cells": [
  {
   "cell_type": "code",
   "execution_count": 1,
   "id": "5d676a23-7e08-4b48-980e-02b5249a44bf",
   "metadata": {},
   "outputs": [],
   "source": [
    "import json\n",
    "import pandas as pd\n",
    "import datetime"
   ]
  },
  {
   "cell_type": "code",
   "execution_count": 3,
   "id": "c038b3f4-c198-4d7f-a506-d16d4cc5695e",
   "metadata": {},
   "outputs": [
    {
     "name": "stdout",
     "output_type": "stream",
     "text": [
      "\u001b[0m\u001b[01;34mdata_with_news\u001b[0m/       HealthRelease.csv  ReCOVery_test.csv\n",
      "FakeHealth.csv        HealthStory.csv    ReCOVery_train.csv\n",
      "FakeHealth_test.csv   \u001b[01;34mraw_data\u001b[0m/\n",
      "FakeHealth_train.csv  ReCOVery.csv\n"
     ]
    }
   ],
   "source": [
    "ls ../dataset"
   ]
  },
  {
   "cell_type": "markdown",
   "id": "caacfc08-98dd-4e98-a653-5df33405410b",
   "metadata": {},
   "source": [
    "# HealthRelease"
   ]
  },
  {
   "cell_type": "code",
   "execution_count": 4,
   "id": "e05e0a7d-28cd-4f36-a9ca-f54c1533ac0e",
   "metadata": {},
   "outputs": [],
   "source": [
    "with open('../dataset/raw_data/HealthRelease.json', 'r') as file:\n",
    "    data = json.load(file)\n",
    "\n",
    "data_df_news = pd.read_csv(\"../dataset/data_with_news/FakeHealth_Release.csv\")"
   ]
  },
  {
   "cell_type": "code",
   "execution_count": 5,
   "id": "a90d3fd8-64d6-479e-bb46-18dac6f9a812",
   "metadata": {},
   "outputs": [
    {
     "data": {
      "text/html": [
       "<div>\n",
       "<style scoped>\n",
       "    .dataframe tbody tr th:only-of-type {\n",
       "        vertical-align: middle;\n",
       "    }\n",
       "\n",
       "    .dataframe tbody tr th {\n",
       "        vertical-align: top;\n",
       "    }\n",
       "\n",
       "    .dataframe thead th {\n",
       "        text-align: right;\n",
       "    }\n",
       "</style>\n",
       "<table border=\"1\" class=\"dataframe\">\n",
       "  <thead>\n",
       "    <tr style=\"text-align: right;\">\n",
       "      <th></th>\n",
       "      <th>news_id</th>\n",
       "      <th>publish_date</th>\n",
       "      <th>class</th>\n",
       "      <th>tweets</th>\n",
       "      <th>retweets</th>\n",
       "      <th>replies</th>\n",
       "      <th>url_count</th>\n",
       "      <th>text_clean</th>\n",
       "      <th>token</th>\n",
       "      <th>token_clean</th>\n",
       "      <th>...</th>\n",
       "      <th>Participle</th>\n",
       "      <th>Modal</th>\n",
       "      <th>Strong_modal</th>\n",
       "      <th>Weak_modal</th>\n",
       "      <th>First_person</th>\n",
       "      <th>Second_person</th>\n",
       "      <th>Third_person</th>\n",
       "      <th>Conditional</th>\n",
       "      <th>Proper_nouns</th>\n",
       "      <th>Other</th>\n",
       "    </tr>\n",
       "  </thead>\n",
       "  <tbody>\n",
       "    <tr>\n",
       "      <th>0</th>\n",
       "      <td>news_reviews_00000</td>\n",
       "      <td>1.546060e+09</td>\n",
       "      <td>0</td>\n",
       "      <td>['1075103588148334592', '1075507329322418181',...</td>\n",
       "      <td>['1193280665816633344', '1075460482172100608',...</td>\n",
       "      <td>['1075647664807731200', '1075642012068503552',...</td>\n",
       "      <td>0</td>\n",
       "      <td>madison wis more than 00 million adults and ch...</td>\n",
       "      <td>['madison', 'wis', 'more', 'than', '00', 'mill...</td>\n",
       "      <td>['madison', 'wis', '00', 'million', 'adults', ...</td>\n",
       "      <td>...</td>\n",
       "      <td>0.012567</td>\n",
       "      <td>0.007181</td>\n",
       "      <td>0.003591</td>\n",
       "      <td>0.001795</td>\n",
       "      <td>0.007181</td>\n",
       "      <td>0.001795</td>\n",
       "      <td>0.014363</td>\n",
       "      <td>0.001795</td>\n",
       "      <td>0.001795</td>\n",
       "      <td>0.59246</td>\n",
       "    </tr>\n",
       "  </tbody>\n",
       "</table>\n",
       "<p>1 rows × 221 columns</p>\n",
       "</div>"
      ],
      "text/plain": [
       "              news_id  publish_date  class  \\\n",
       "0  news_reviews_00000  1.546060e+09      0   \n",
       "\n",
       "                                              tweets  \\\n",
       "0  ['1075103588148334592', '1075507329322418181',...   \n",
       "\n",
       "                                            retweets  \\\n",
       "0  ['1193280665816633344', '1075460482172100608',...   \n",
       "\n",
       "                                             replies  url_count  \\\n",
       "0  ['1075647664807731200', '1075642012068503552',...          0   \n",
       "\n",
       "                                          text_clean  \\\n",
       "0  madison wis more than 00 million adults and ch...   \n",
       "\n",
       "                                               token  \\\n",
       "0  ['madison', 'wis', 'more', 'than', '00', 'mill...   \n",
       "\n",
       "                                         token_clean  ... Participle  \\\n",
       "0  ['madison', 'wis', '00', 'million', 'adults', ...  ...   0.012567   \n",
       "\n",
       "      Modal  Strong_modal  Weak_modal  First_person  Second_person  \\\n",
       "0  0.007181      0.003591    0.001795      0.007181       0.001795   \n",
       "\n",
       "   Third_person  Conditional  Proper_nouns    Other  \n",
       "0      0.014363     0.001795      0.001795  0.59246  \n",
       "\n",
       "[1 rows x 221 columns]"
      ]
     },
     "execution_count": 5,
     "metadata": {},
     "output_type": "execute_result"
    }
   ],
   "source": [
    "data_df_news[data_df_news['news_id']=='news_reviews_00000']"
   ]
  },
  {
   "cell_type": "code",
   "execution_count": 7,
   "id": "4645bec5-d1a7-49c3-add2-de302a8b1c3c",
   "metadata": {},
   "outputs": [
    {
     "name": "stdout",
     "output_type": "stream",
     "text": [
      "1 - ERRPR in news_reviews_00018.... https://www.healthnewsreview.org/news-release-review/university-takes-cautious-approach-in-promoting-rapid-test-for-diagnosing-brain-disease/ ...\n",
      "2 - ERRPR in news_reviews_00136.... https://www.healthnewsreview.org/news-release-review/kerastem-gives-thin-summary-of-phase-2-hair-growth-procedure-results/ ...\n",
      "3 - ERRPR in news_reviews_00168.... https://www.healthnewsreview.org/news-release-review/bodycad-claims-untested-3d-printed-knee-replacements-offer-improved-clinical-outcomes/ ...\n",
      "4 - ERRPR in news_reviews_00235.... https://www.healthnewsreview.org/news-release-review/als-drug-announcement-answers-many-questions-but-raises-others-about-cost-benefits-and-a-potential-conflict-of-interest/ ...\n",
      "5 - ERRPR in news_reviews_00284.... https://www.healthnewsreview.org/news-release-review/on-amgens-heels-bayer-follows-with-data-free-release-touting-overwhelming-benefit/ ...\n",
      "6 - ERRPR in news_reviews_00395.... https://www.healthnewsreview.org/news-release-review/pap-smears-in-the-elderly-effusive-headline-gets-way-ahead-of-the-evidence/ ...\n",
      "7 - ERRPR in news_reviews_00422.... https://www.healthnewsreview.org/news-release-review/news-release-on-diet-for-ibs-claims-major-improvement-but-what-exactly-does-that-mean/ ...\n",
      "8 - ERRPR in news_reviews_00490.... https://www.healthnewsreview.org/news-release-review/in-depth-merck-release-on-new-hep-c-drug-skirts-some-of-the-basics/ ...\n",
      "9 - ERRPR in news_reviews_00499.... https://www.healthnewsreview.org/news-release-review/moving-toward-stroke-free-generation-kids-sickle-cell-disease/ ...\n",
      "10 - ERRPR in news_reviews_00507.... https://www.healthnewsreview.org/news-release-review/safe-form-estrogen-helped-multiple-sclerosis-patients-avoid-relapses-ucla-led-clinical-trial/ ...\n",
      "11 - ERRPR in news_reviews_00589.... https://www.healthnewsreview.org/news-release-review/will-biking-to-work-help-you-shed-the-pounds-bmj-news-release-nails-the-big-picture-but-lacks-nuance/ ...\n",
      "12 - ERRPR in news_reviews_00590.... https://www.healthnewsreview.org/news-release-review/bayer-glosses-over-potential-harms-of-essure-device-with-incomplete-one-sided-news-release-on-safety-study/ ...\n"
     ]
    },
    {
     "data": {
      "text/plain": [
       "real    308\n",
       "fake    286\n",
       "Name: claim, dtype: int64"
      ]
     },
     "execution_count": 7,
     "metadata": {},
     "output_type": "execute_result"
    }
   ],
   "source": [
    "health_release = []\n",
    "idx = 1\n",
    "for sample in data:\n",
    "    try:\n",
    "        news_df = data_df_news[data_df_news['news_id']==sample['news_id']]\n",
    "        news = news_df['text'].tolist()\n",
    "        timestamp = news_df['publish_date'].tolist()[0]\n",
    "        publish_date = datetime.datetime.utcfromtimestamp(timestamp).strftime('%Y-%m-%d %H:%M:%S')\n",
    "        health_release.append({\n",
    "            \"news_id\": sample['news_id'],\n",
    "            \"link\": sample['link'],\n",
    "            \"publish_date\": publish_date,\n",
    "            \"title\": sample['original_title'],\n",
    "            \"news\": news,\n",
    "            \"description\": sample['description'],\n",
    "            \"summary\": sample['summary']['Our Review Summary'],\n",
    "            \"rating\": sample['rating'],\n",
    "            \"claim\": \"real\" if sample['rating'] > 2 else \"fake\",  \n",
    "        })\n",
    "    except:\n",
    "        print(f\"{idx} - ERRPR in {sample['news_id']}.... {sample['link']} ...\")\n",
    "        idx += 1\n",
    "    \n",
    "    \n",
    "    \n",
    "hr_df = pd.DataFrame(health_release)\n",
    "\n",
    "hr_df.to_csv(\"../dataset/HealthRelease.csv\", index=False)\n",
    "\n",
    "hr_df['claim'].value_counts()"
   ]
  },
  {
   "cell_type": "code",
   "execution_count": 8,
   "id": "f184bce1-33a5-4f1b-8626-d9938fb16603",
   "metadata": {},
   "outputs": [
    {
     "data": {
      "text/html": [
       "<div>\n",
       "<style scoped>\n",
       "    .dataframe tbody tr th:only-of-type {\n",
       "        vertical-align: middle;\n",
       "    }\n",
       "\n",
       "    .dataframe tbody tr th {\n",
       "        vertical-align: top;\n",
       "    }\n",
       "\n",
       "    .dataframe thead th {\n",
       "        text-align: right;\n",
       "    }\n",
       "</style>\n",
       "<table border=\"1\" class=\"dataframe\">\n",
       "  <thead>\n",
       "    <tr style=\"text-align: right;\">\n",
       "      <th></th>\n",
       "      <th>news_id</th>\n",
       "      <th>link</th>\n",
       "      <th>publish_date</th>\n",
       "      <th>title</th>\n",
       "      <th>news</th>\n",
       "      <th>description</th>\n",
       "      <th>summary</th>\n",
       "      <th>rating</th>\n",
       "      <th>claim</th>\n",
       "    </tr>\n",
       "  </thead>\n",
       "  <tbody>\n",
       "    <tr>\n",
       "      <th>0</th>\n",
       "      <td>news_reviews_00000</td>\n",
       "      <td>https://www.healthnewsreview.org/news-release-...</td>\n",
       "      <td>2018-12-29 05:00:00</td>\n",
       "      <td>Tiny implantable device short-circuits hunger ...</td>\n",
       "      <td>[MADISON, Wis. -- More than 700 million adults...</td>\n",
       "      <td>This news release speculates that a study in r...</td>\n",
       "      <td>UW-Madison graduate student Guang Yao (left) a...</td>\n",
       "      <td>2</td>\n",
       "      <td>fake</td>\n",
       "    </tr>\n",
       "    <tr>\n",
       "      <th>1</th>\n",
       "      <td>news_reviews_00001</td>\n",
       "      <td>https://www.healthnewsreview.org/news-release-...</td>\n",
       "      <td>2018-12-29 05:00:00</td>\n",
       "      <td>Scientists report CRISPR restores effectivenes...</td>\n",
       "      <td>[Wilmington, DE, December 17, 2018 - The CRISP...</td>\n",
       "      <td>This release needed a strong caution that obse...</td>\n",
       "      <td>This news release reports on preliminary resea...</td>\n",
       "      <td>3</td>\n",
       "      <td>real</td>\n",
       "    </tr>\n",
       "  </tbody>\n",
       "</table>\n",
       "</div>"
      ],
      "text/plain": [
       "              news_id                                               link  \\\n",
       "0  news_reviews_00000  https://www.healthnewsreview.org/news-release-...   \n",
       "1  news_reviews_00001  https://www.healthnewsreview.org/news-release-...   \n",
       "\n",
       "          publish_date                                              title  \\\n",
       "0  2018-12-29 05:00:00  Tiny implantable device short-circuits hunger ...   \n",
       "1  2018-12-29 05:00:00  Scientists report CRISPR restores effectivenes...   \n",
       "\n",
       "                                                news  \\\n",
       "0  [MADISON, Wis. -- More than 700 million adults...   \n",
       "1  [Wilmington, DE, December 17, 2018 - The CRISP...   \n",
       "\n",
       "                                         description  \\\n",
       "0  This news release speculates that a study in r...   \n",
       "1  This release needed a strong caution that obse...   \n",
       "\n",
       "                                             summary  rating claim  \n",
       "0  UW-Madison graduate student Guang Yao (left) a...       2  fake  \n",
       "1  This news release reports on preliminary resea...       3  real  "
      ]
     },
     "execution_count": 8,
     "metadata": {},
     "output_type": "execute_result"
    }
   ],
   "source": [
    "hr_df.head(2)"
   ]
  },
  {
   "cell_type": "markdown",
   "id": "b47aaaaa-a737-4cbc-b389-b930decd18ff",
   "metadata": {},
   "source": [
    "# HealthStory"
   ]
  },
  {
   "cell_type": "code",
   "execution_count": 9,
   "id": "e7868dd4-d1ac-4fe9-9c5f-c2efb0cb1b05",
   "metadata": {},
   "outputs": [
    {
     "name": "stdout",
     "output_type": "stream",
     "text": [
      "1 - ERRPR in story_reviews_00024.... https://www.healthnewsreview.org/review/ap-offers-strong-reporting-about-the-evidence-for-a-drug-treatment-for-moderate-bone-loss/ ...\n",
      "2 - ERRPR in story_reviews_00069.... https://www.healthnewsreview.org/review/a-study-that-may-help-reduce-overtreatment-of-breast-cancer-gets-solid-write-up-by-bloomberg/ ...\n",
      "3 - ERRPR in story_reviews_00113.... https://www.healthnewsreview.org/review/lack-of-harms-and-disease-mongering-dog-bloombergs-story-on-prostate-cancer-drugs/ ...\n",
      "4 - ERRPR in story_reviews_00114.... https://www.healthnewsreview.org/review/bloomberg-highlights-modest-weight-loss-benefit-from-standing-desks-study-missing-a-focus-on-better-alternatives/ ...\n",
      "5 - ERRPR in story_reviews_00137.... https://www.healthnewsreview.org/review/outside-experts-help-round-out-nbcs-report-on-minimally-invasive-back-pain-procedure/ ...\n",
      "6 - ERRPR in story_reviews_00154.... https://www.healthnewsreview.org/review/brief-but-informative-report-from-ap-on-newly-approved-shingles-vaccine/ ...\n",
      "7 - ERRPR in story_reviews_00161.... https://www.healthnewsreview.org/review/ap-makes-it-clear-that-gene-therapy-has-uncertain-future-for-treating-ald/ ...\n",
      "8 - ERRPR in story_reviews_00186.... https://www.healthnewsreview.org/review/strong-recap-on-cancer-blood-test-should-have-challenged-survival-claims/ ...\n",
      "9 - ERRPR in story_reviews_00190.... https://www.healthnewsreview.org/review/ap-story-says-new-drug-cures-hepatitis-c-but-thats-no-guarantee-patients-will-be-spared-cirrhosis-or-liver-cancer/ ...\n",
      "10 - ERRPR in story_reviews_00201.... https://www.healthnewsreview.org/review/new-heart-imaging-method-may-predict-heart-attack/ ...\n",
      "11 - ERRPR in story_reviews_00218.... https://www.healthnewsreview.org/review/small-unpublished-study-on-new-knee-pain-procedure-needed-more-scrutiny-from-nbc-news/ ...\n",
      "12 - ERRPR in story_reviews_00224.... https://www.healthnewsreview.org/review/bloomberg-offers-up-balanced-recap-of-new-breast-cancer-therapy/ ...\n",
      "13 - ERRPR in story_reviews_00232.... https://www.healthnewsreview.org/review/bloomberg-story-provides-clear-eyed-view-of-trendy-neurofeedback-brain-training-clinics/ ...\n",
      "14 - ERRPR in story_reviews_00233.... https://www.healthnewsreview.org/review/how-solid-is-the-evidence-for-a-new-implantable-sleep-apnea-device-nbcs-story-doesnt-say/ ...\n",
      "15 - ERRPR in story_reviews_00249.... https://www.healthnewsreview.org/review/fda-anbcs-single-source-report-on-device-for-treating-cluster-headaches-lacks-balance/ ...\n",
      "16 - ERRPR in story_reviews_00253.... https://www.healthnewsreview.org/review/lack-of-independent-sources-hinders-ap-story-on-new-drug-that-treats-side-effect-caused-by-antipsychotics/ ...\n",
      "17 - ERRPR in story_reviews_00260.... https://www.healthnewsreview.org/review/lack-of-independent-sources-weaken-nbcs-look-at-pricey-eczema-drug/ ...\n",
      "18 - ERRPR in story_reviews_00262.... https://www.healthnewsreview.org/review/nbc-calls-rodent-retina-research-game-changer-for-vision-loss-in-people/ ...\n",
      "19 - ERRPR in story_reviews_00268.... https://www.healthnewsreview.org/review/bloomberg-paints-rosy-picture-of-virtual-reality-for-ptsd-glossing-over-the-hard-evidence/ ...\n",
      "20 - ERRPR in story_reviews_00315.... https://www.healthnewsreview.org/review/nbcs-look-at-kangaroo-care-20-years-later-no-mention-of-important-research-limitations/ ...\n",
      "21 - ERRPR in story_reviews_00327.... https://www.healthnewsreview.org/review/bloombergs-conflicted-sources-love-new-cholesterol-drugs-readers-need-to-know-about-financial-relationships-with-pharma/ ...\n",
      "22 - ERRPR in story_reviews_00330.... https://www.healthnewsreview.org/review/zinc-for-stomach-problems-philly-com-story-only-quoted-people-with-a-financial-stake-in-supplements/ ...\n",
      "23 - ERRPR in story_reviews_00371.... https://www.healthnewsreview.org/review/bloombergs-story-on-virtual-reality-for-pain-control-was-a-little-too-rosy/ ...\n",
      "24 - ERRPR in story_reviews_00380.... https://www.healthnewsreview.org/review/nbcs-says-zika-vaccine-trial-has-striking-results-but-it-hasnt-even-been-tested-in-people-yet/ ...\n",
      "25 - ERRPR in story_reviews_00404.... https://www.healthnewsreview.org/review/comical-critical-might-even-help-lose-weight/ ...\n",
      "26 - ERRPR in story_reviews_00463.... https://www.healthnewsreview.org/review/baby-deadline-test-beat-biological-clock/ ...\n",
      "27 - ERRPR in story_reviews_00549.... https://www.healthnewsreview.org/review/bloomberg-liquid-biopsy-story-nods-to-skepticism-in-headline/ ...\n",
      "28 - ERRPR in story_reviews_00554.... https://www.healthnewsreview.org/review/sleep-fights-colds-study-author-suggests-headline-flunks-methodology-101/ ...\n",
      "29 - ERRPR in story_reviews_00581.... https://www.healthnewsreview.org/review/costs-and-risks-spelled-out-clearly-in-nbc-report-on-statins/ ...\n",
      "30 - ERRPR in story_reviews_00609.... https://www.healthnewsreview.org/review/incomplete-fear-mongering-message-from-nbcs-diet-may-kill-prostate-cancer-survivors/ ...\n",
      "31 - ERRPR in story_reviews_00611.... https://www.healthnewsreview.org/review/keytruda-and-colon-cancer-coverage-of-benefits-not-balanced-with-harms-and-cost-info/ ...\n",
      "32 - ERRPR in story_reviews_00635.... https://www.healthnewsreview.org/review/color-genomics-sells-249-breast-cancer-gene-test-masses/ ...\n",
      "33 - ERRPR in story_reviews_00653.... https://www.healthnewsreview.org/review/breast-biopsy-accuracy-is-questioned-in-experimental-study/ ...\n",
      "34 - ERRPR in story_reviews_00656.... https://www.healthnewsreview.org/review/studies-boost-hopes-for-new-class-of-cholesterol-medicines/ ...\n",
      "35 - ERRPR in story_reviews_00677.... https://www.healthnewsreview.org/review/gileads-pill-can-stop-hiv-so-why-does-almost-nobody-take-it/ ...\n",
      "36 - ERRPR in story_reviews_00681.... https://www.healthnewsreview.org/review/researchers-test-device-to-help-deaf-children-detect-sounds/ ...\n",
      "37 - ERRPR in story_reviews_00704.... https://www.healthnewsreview.org/review/double-chin-there-may-be-a-drug-for-that/ ...\n",
      "38 - ERRPR in story_reviews_00706.... https://www.healthnewsreview.org/review/day-tripping-benefits-seen-in-psychedelics/ ...\n",
      "39 - ERRPR in story_reviews_00711.... https://www.healthnewsreview.org/review/mohs-surgery-minimal-scars-vs-high-cost/ ...\n",
      "40 - ERRPR in story_reviews_00720.... https://www.healthnewsreview.org/review/eating-avocados-daily-may-be-good-for-the-heart-study-shows/ ...\n",
      "41 - ERRPR in story_reviews_00727.... https://www.healthnewsreview.org/review/slowdown-in-number-of-systematic-story-reviews-because-of-loss-of-funding/ ...\n",
      "42 - ERRPR in story_reviews_00796.... https://www.healthnewsreview.org/review/doctors-debate-value-of-fringe-heart-treatment/ ...\n",
      "43 - ERRPR in story_reviews_00815.... https://www.healthnewsreview.org/review/alzheimer-drug-shows-some-promise-in-mild-disease/ ...\n",
      "44 - ERRPR in story_reviews_00829.... https://www.healthnewsreview.org/review/circumcision-pluses-outweigh-risks-pediatricians/ ...\n",
      "45 - ERRPR in story_reviews_00847.... https://www.healthnewsreview.org/review/gene-healing-in-a-lotion-researchers-say-theyre-close/ ...\n",
      "46 - ERRPR in story_reviews_00863.... https://www.healthnewsreview.org/review/drastic-method-targets-hard-to-treat-hypertension/ ...\n",
      "47 - ERRPR in story_reviews_00891.... https://www.healthnewsreview.org/review/study-sees-lower-death-risk-with-bypass-surgery-versus-angioplasty-for-older-heart-patients/ ...\n",
      "48 - ERRPR in story_reviews_00902.... https://www.healthnewsreview.org/review/new-melanoma-treatment-a-turning-point-against-cancer/ ...\n",
      "49 - ERRPR in story_reviews_00907.... https://www.healthnewsreview.org/review/vitamin-a-may-slash-melanoma-risk/ ...\n",
      "50 - ERRPR in story_reviews_00930.... https://www.healthnewsreview.org/review/new-european-pill-works-against-uterine-fibroids/ ...\n",
      "51 - ERRPR in story_reviews_00938.... https://www.healthnewsreview.org/review/nicotine-patch-may-help-improve-memory-study-finds/ ...\n",
      "52 - ERRPR in story_reviews_00986.... https://www.healthnewsreview.org/review/4380/ ...\n",
      "53 - ERRPR in story_reviews_00988.... https://www.healthnewsreview.org/review/4377/ ...\n",
      "54 - ERRPR in story_reviews_00990.... https://www.healthnewsreview.org/review/4363/ ...\n",
      "55 - ERRPR in story_reviews_01010.... https://www.healthnewsreview.org/review/4286/ ...\n",
      "56 - ERRPR in story_reviews_01025.... https://www.healthnewsreview.org/review/4201/ ...\n",
      "57 - ERRPR in story_reviews_01038.... https://www.healthnewsreview.org/review/4169/ ...\n",
      "58 - ERRPR in story_reviews_01041.... https://www.healthnewsreview.org/review/4148/ ...\n",
      "59 - ERRPR in story_reviews_01047.... https://www.healthnewsreview.org/review/4116/ ...\n",
      "60 - ERRPR in story_reviews_01060.... https://www.healthnewsreview.org/review/4072/ ...\n",
      "61 - ERRPR in story_reviews_01075.... https://www.healthnewsreview.org/review/3998/ ...\n",
      "62 - ERRPR in story_reviews_01076.... https://www.healthnewsreview.org/review/4001/ ...\n",
      "63 - ERRPR in story_reviews_01079.... https://www.healthnewsreview.org/review/3984/ ...\n",
      "64 - ERRPR in story_reviews_01101.... https://www.healthnewsreview.org/review/3908/ ...\n",
      "65 - ERRPR in story_reviews_01106.... https://www.healthnewsreview.org/review/3895/ ...\n",
      "66 - ERRPR in story_reviews_01110.... https://www.healthnewsreview.org/review/3876/ ...\n",
      "67 - ERRPR in story_reviews_01125.... https://www.healthnewsreview.org/review/3845/ ...\n",
      "68 - ERRPR in story_reviews_01127.... https://www.healthnewsreview.org/review/3834/ ...\n",
      "69 - ERRPR in story_reviews_01135.... https://www.healthnewsreview.org/review/3806/ ...\n",
      "70 - ERRPR in story_reviews_01142.... https://www.healthnewsreview.org/review/3784/ ...\n",
      "71 - ERRPR in story_reviews_01148.... https://www.healthnewsreview.org/review/3769/ ...\n",
      "72 - ERRPR in story_reviews_01157.... https://www.healthnewsreview.org/review/3754/ ...\n",
      "73 - ERRPR in story_reviews_01163.... https://www.healthnewsreview.org/review/3736/ ...\n",
      "74 - ERRPR in story_reviews_01166.... https://www.healthnewsreview.org/review/3722/ ...\n",
      "75 - ERRPR in story_reviews_01169.... https://www.healthnewsreview.org/review/3714/ ...\n",
      "76 - ERRPR in story_reviews_01194.... https://www.healthnewsreview.org/review/3657/ ...\n",
      "77 - ERRPR in story_reviews_01223.... https://www.healthnewsreview.org/review/3581/ ...\n",
      "78 - ERRPR in story_reviews_01246.... https://www.healthnewsreview.org/review/3521/ ...\n",
      "79 - ERRPR in story_reviews_01253.... https://www.healthnewsreview.org/review/3493/ ...\n",
      "80 - ERRPR in story_reviews_01255.... https://www.healthnewsreview.org/review/3503/ ...\n",
      "81 - ERRPR in story_reviews_01262.... https://www.healthnewsreview.org/review/3485/ ...\n",
      "82 - ERRPR in story_reviews_01264.... https://www.healthnewsreview.org/review/3472/ ...\n",
      "83 - ERRPR in story_reviews_01281.... https://www.healthnewsreview.org/review/3423/ ...\n",
      "84 - ERRPR in story_reviews_01285.... https://www.healthnewsreview.org/review/3415/ ...\n",
      "85 - ERRPR in story_reviews_01290.... https://www.healthnewsreview.org/review/3407/ ...\n",
      "86 - ERRPR in story_reviews_01295.... https://www.healthnewsreview.org/review/3386/ ...\n",
      "87 - ERRPR in story_reviews_01297.... https://www.healthnewsreview.org/review/3390/ ...\n",
      "88 - ERRPR in story_reviews_01310.... https://www.healthnewsreview.org/review/3355/ ...\n",
      "89 - ERRPR in story_reviews_01313.... https://www.healthnewsreview.org/review/3347/ ...\n",
      "90 - ERRPR in story_reviews_01345.... https://www.healthnewsreview.org/review/3288/ ...\n",
      "91 - ERRPR in story_reviews_01364.... https://www.healthnewsreview.org/review/3244/ ...\n",
      "92 - ERRPR in story_reviews_01385.... https://www.healthnewsreview.org/review/3205/ ...\n",
      "93 - ERRPR in story_reviews_01390.... https://www.healthnewsreview.org/review/3196/ ...\n",
      "94 - ERRPR in story_reviews_01402.... https://www.healthnewsreview.org/review/3184/ ...\n",
      "95 - ERRPR in story_reviews_01404.... https://www.healthnewsreview.org/review/3171/ ...\n",
      "96 - ERRPR in story_reviews_01407.... https://www.healthnewsreview.org/review/3167/ ...\n",
      "97 - ERRPR in story_reviews_01421.... https://www.healthnewsreview.org/review/3137/ ...\n",
      "98 - ERRPR in story_reviews_01438.... https://www.healthnewsreview.org/review/3113/ ...\n",
      "99 - ERRPR in story_reviews_01445.... https://www.healthnewsreview.org/review/3105/ ...\n",
      "100 - ERRPR in story_reviews_01453.... https://www.healthnewsreview.org/review/3088/ ...\n",
      "101 - ERRPR in story_reviews_01454.... https://www.healthnewsreview.org/review/3089/ ...\n",
      "102 - ERRPR in story_reviews_01481.... https://www.healthnewsreview.org/review/3045/ ...\n",
      "103 - ERRPR in story_reviews_01494.... https://www.healthnewsreview.org/review/3018/ ...\n",
      "104 - ERRPR in story_reviews_01496.... https://www.healthnewsreview.org/review/3013/ ...\n",
      "105 - ERRPR in story_reviews_01505.... https://www.healthnewsreview.org/review/2998/ ...\n",
      "106 - ERRPR in story_reviews_01509.... https://www.healthnewsreview.org/review/2991/ ...\n",
      "107 - ERRPR in story_reviews_01512.... https://www.healthnewsreview.org/review/2986/ ...\n",
      "108 - ERRPR in story_reviews_01517.... https://www.healthnewsreview.org/review/2972/ ...\n",
      "109 - ERRPR in story_reviews_01518.... https://www.healthnewsreview.org/review/2968/ ...\n",
      "110 - ERRPR in story_reviews_01525.... https://www.healthnewsreview.org/review/2956/ ...\n",
      "111 - ERRPR in story_reviews_01530.... https://www.healthnewsreview.org/review/2936/ ...\n",
      "112 - ERRPR in story_reviews_01535.... https://www.healthnewsreview.org/review/2927/ ...\n",
      "113 - ERRPR in story_reviews_01537.... https://www.healthnewsreview.org/review/2932/ ...\n",
      "114 - ERRPR in story_reviews_01548.... https://www.healthnewsreview.org/review/2898/ ...\n",
      "115 - ERRPR in story_reviews_01575.... https://www.healthnewsreview.org/review/2809/ ...\n",
      "116 - ERRPR in story_reviews_01576.... https://www.healthnewsreview.org/review/2802/ ...\n",
      "117 - ERRPR in story_reviews_01578.... https://www.healthnewsreview.org/review/2804/ ...\n",
      "118 - ERRPR in story_reviews_01583.... https://www.healthnewsreview.org/review/2776/ ...\n",
      "119 - ERRPR in story_reviews_01592.... https://www.healthnewsreview.org/review/2722/ ...\n",
      "120 - ERRPR in story_reviews_01593.... https://www.healthnewsreview.org/review/2710/ ...\n",
      "121 - ERRPR in story_reviews_01605.... https://www.healthnewsreview.org/review/2672/ ...\n",
      "122 - ERRPR in story_reviews_01618.... https://www.healthnewsreview.org/review/2639/ ...\n",
      "123 - ERRPR in story_reviews_01623.... https://www.healthnewsreview.org/review/2605/ ...\n",
      "124 - ERRPR in story_reviews_01629.... https://www.healthnewsreview.org/review/2589/ ...\n",
      "125 - ERRPR in story_reviews_01631.... https://www.healthnewsreview.org/review/2570/ ...\n",
      "126 - ERRPR in story_reviews_01632.... https://www.healthnewsreview.org/review/2573/ ...\n",
      "127 - ERRPR in story_reviews_01633.... https://www.healthnewsreview.org/review/2575/ ...\n",
      "128 - ERRPR in story_reviews_01634.... https://www.healthnewsreview.org/review/2571/ ...\n",
      "129 - ERRPR in story_reviews_01635.... https://www.healthnewsreview.org/review/2572/ ...\n",
      "130 - ERRPR in story_reviews_01636.... https://www.healthnewsreview.org/review/2562/ ...\n",
      "131 - ERRPR in story_reviews_01637.... https://www.healthnewsreview.org/review/2563/ ...\n",
      "132 - ERRPR in story_reviews_01638.... https://www.healthnewsreview.org/review/2556/ ...\n",
      "133 - ERRPR in story_reviews_01639.... https://www.healthnewsreview.org/review/2555/ ...\n",
      "134 - ERRPR in story_reviews_01640.... https://www.healthnewsreview.org/review/2558/ ...\n",
      "135 - ERRPR in story_reviews_01641.... https://www.healthnewsreview.org/review/2551/ ...\n",
      "136 - ERRPR in story_reviews_01642.... https://www.healthnewsreview.org/review/2548/ ...\n",
      "137 - ERRPR in story_reviews_01643.... https://www.healthnewsreview.org/review/2541/ ...\n",
      "138 - ERRPR in story_reviews_01644.... https://www.healthnewsreview.org/review/2534/ ...\n",
      "139 - ERRPR in story_reviews_01645.... https://www.healthnewsreview.org/review/2533/ ...\n",
      "140 - ERRPR in story_reviews_01646.... https://www.healthnewsreview.org/review/2535/ ...\n",
      "141 - ERRPR in story_reviews_01647.... https://www.healthnewsreview.org/review/2536/ ...\n",
      "142 - ERRPR in story_reviews_01648.... https://www.healthnewsreview.org/review/2537/ ...\n",
      "143 - ERRPR in story_reviews_01649.... https://www.healthnewsreview.org/review/2532/ ...\n",
      "144 - ERRPR in story_reviews_01650.... https://www.healthnewsreview.org/review/2517/ ...\n",
      "145 - ERRPR in story_reviews_01651.... https://www.healthnewsreview.org/review/2518/ ...\n",
      "146 - ERRPR in story_reviews_01652.... https://www.healthnewsreview.org/review/2523/ ...\n",
      "147 - ERRPR in story_reviews_01653.... https://www.healthnewsreview.org/review/2524/ ...\n",
      "148 - ERRPR in story_reviews_01654.... https://www.healthnewsreview.org/review/2525/ ...\n",
      "149 - ERRPR in story_reviews_01655.... https://www.healthnewsreview.org/review/2526/ ...\n",
      "150 - ERRPR in story_reviews_01656.... https://www.healthnewsreview.org/review/2512/ ...\n",
      "151 - ERRPR in story_reviews_01657.... https://www.healthnewsreview.org/review/2514/ ...\n",
      "152 - ERRPR in story_reviews_01658.... https://www.healthnewsreview.org/review/2507/ ...\n",
      "153 - ERRPR in story_reviews_01659.... https://www.healthnewsreview.org/review/2510/ ...\n",
      "154 - ERRPR in story_reviews_01660.... https://www.healthnewsreview.org/review/2511/ ...\n",
      "155 - ERRPR in story_reviews_01661.... https://www.healthnewsreview.org/review/2500/ ...\n",
      "156 - ERRPR in story_reviews_01662.... https://www.healthnewsreview.org/review/2502/ ...\n",
      "157 - ERRPR in story_reviews_01663.... https://www.healthnewsreview.org/review/2493/ ...\n",
      "158 - ERRPR in story_reviews_01664.... https://www.healthnewsreview.org/review/2494/ ...\n",
      "159 - ERRPR in story_reviews_01665.... https://www.healthnewsreview.org/review/2495/ ...\n",
      "160 - ERRPR in story_reviews_01666.... https://www.healthnewsreview.org/review/2491/ ...\n",
      "161 - ERRPR in story_reviews_01667.... https://www.healthnewsreview.org/review/2482/ ...\n",
      "162 - ERRPR in story_reviews_01668.... https://www.healthnewsreview.org/review/2484/ ...\n",
      "163 - ERRPR in story_reviews_01669.... https://www.healthnewsreview.org/review/2477/ ...\n",
      "164 - ERRPR in story_reviews_01670.... https://www.healthnewsreview.org/review/2478/ ...\n",
      "165 - ERRPR in story_reviews_01671.... https://www.healthnewsreview.org/review/2474/ ...\n",
      "166 - ERRPR in story_reviews_01672.... https://www.healthnewsreview.org/review/2461/ ...\n",
      "167 - ERRPR in story_reviews_01673.... https://www.healthnewsreview.org/review/2463/ ...\n",
      "168 - ERRPR in story_reviews_01674.... https://www.healthnewsreview.org/review/2464/ ...\n",
      "169 - ERRPR in story_reviews_01675.... https://www.healthnewsreview.org/review/2465/ ...\n",
      "170 - ERRPR in story_reviews_01676.... https://www.healthnewsreview.org/review/2469/ ...\n",
      "171 - ERRPR in story_reviews_01677.... https://www.healthnewsreview.org/review/2457/ ...\n",
      "172 - ERRPR in story_reviews_01678.... https://www.healthnewsreview.org/review/2452/ ...\n",
      "173 - ERRPR in story_reviews_01679.... https://www.healthnewsreview.org/review/2455/ ...\n",
      "174 - ERRPR in story_reviews_01680.... https://www.healthnewsreview.org/review/2446/ ...\n",
      "175 - ERRPR in story_reviews_01681.... https://www.healthnewsreview.org/review/2441/ ...\n",
      "176 - ERRPR in story_reviews_01682.... https://www.healthnewsreview.org/review/2431/ ...\n",
      "177 - ERRPR in story_reviews_01683.... https://www.healthnewsreview.org/review/2432/ ...\n",
      "178 - ERRPR in story_reviews_01684.... https://www.healthnewsreview.org/review/2435/ ...\n",
      "179 - ERRPR in story_reviews_01685.... https://www.healthnewsreview.org/review/2426/ ...\n",
      "180 - ERRPR in story_reviews_01686.... https://www.healthnewsreview.org/review/2427/ ...\n",
      "181 - ERRPR in story_reviews_01687.... https://www.healthnewsreview.org/review/2414/ ...\n",
      "182 - ERRPR in story_reviews_01688.... https://www.healthnewsreview.org/review/2415/ ...\n",
      "183 - ERRPR in story_reviews_01689.... https://www.healthnewsreview.org/review/2419/ ...\n",
      "184 - ERRPR in story_reviews_01690.... https://www.healthnewsreview.org/review/2412/ ...\n",
      "185 - ERRPR in story_reviews_01691.... https://www.healthnewsreview.org/review/2402/ ...\n",
      "186 - ERRPR in story_reviews_01692.... https://www.healthnewsreview.org/review/2393/ ...\n",
      "187 - ERRPR in story_reviews_01693.... https://www.healthnewsreview.org/review/2404/ ...\n",
      "188 - ERRPR in story_reviews_01694.... https://www.healthnewsreview.org/review/2390/ ...\n",
      "189 - ERRPR in story_reviews_01695.... https://www.healthnewsreview.org/review/2389/ ...\n",
      "190 - ERRPR in story_reviews_01697.... https://www.healthnewsreview.org/review/2391/ ...\n",
      "191 - ERRPR in story_reviews_01698.... https://www.healthnewsreview.org/review/2385/ ...\n",
      "192 - ERRPR in story_reviews_01699.... https://www.healthnewsreview.org/review/2382/ ...\n"
     ]
    },
    {
     "data": {
      "text/plain": [
       "real    1078\n",
       "fake     420\n",
       "Name: claim, dtype: int64"
      ]
     },
     "execution_count": 9,
     "metadata": {},
     "output_type": "execute_result"
    }
   ],
   "source": [
    "with open('../dataset/raw_data/HealthStory.json', 'r') as file:\n",
    "    data = json.load(file)\n",
    "\n",
    "\n",
    "data_df_news = pd.read_csv(\"../dataset/data_with_news/FakeHealth_Story.csv\")\n",
    "\n",
    "health_story = []\n",
    "idx = 1\n",
    "for sample in data:\n",
    "    try:\n",
    "        news_df = data_df_news[data_df_news['news_id']==sample['news_id']]\n",
    "        news = news_df['text'].tolist()\n",
    "        timestamp = news_df['publish_date'].tolist()[0]\n",
    "        publish_date = datetime.datetime.utcfromtimestamp(timestamp).strftime('%Y-%m-%d %H:%M:%S')\n",
    "\n",
    "        \n",
    "        health_story.append({\n",
    "            \"news_id\": sample['news_id'],\n",
    "            \"link\": sample['link'],\n",
    "            \"publish_date\": publish_date,\n",
    "            \"title\": sample['original_title'],\n",
    "            \"news\": news,\n",
    "            \"description\": sample['description'],\n",
    "            \"summary\": sample['summary'].get('Our Review Summary', \"\"),\n",
    "            \"rating\": sample['rating'],\n",
    "            \"claim\": \"real\" if sample['rating'] > 2 else \"fake\",  \n",
    "        })\n",
    "    except:\n",
    "        \n",
    "        print(f\"{idx} - ERRPR in {sample['news_id']}.... {sample['link']} ...\")\n",
    "        idx += 1\n",
    "    \n",
    "hs_df = pd.DataFrame(health_story)\n",
    "\n",
    "hs_df.to_csv(\"../dataset/HealthStory.csv\", index=False)\n",
    "\n",
    "hs_df['claim'].value_counts()"
   ]
  },
  {
   "cell_type": "code",
   "execution_count": 10,
   "id": "0858e9ca-d018-458f-baa9-98f038b5db2f",
   "metadata": {},
   "outputs": [
    {
     "data": {
      "text/html": [
       "<div>\n",
       "<style scoped>\n",
       "    .dataframe tbody tr th:only-of-type {\n",
       "        vertical-align: middle;\n",
       "    }\n",
       "\n",
       "    .dataframe tbody tr th {\n",
       "        vertical-align: top;\n",
       "    }\n",
       "\n",
       "    .dataframe thead th {\n",
       "        text-align: right;\n",
       "    }\n",
       "</style>\n",
       "<table border=\"1\" class=\"dataframe\">\n",
       "  <thead>\n",
       "    <tr style=\"text-align: right;\">\n",
       "      <th></th>\n",
       "      <th>news_id</th>\n",
       "      <th>link</th>\n",
       "      <th>publish_date</th>\n",
       "      <th>title</th>\n",
       "      <th>news</th>\n",
       "      <th>description</th>\n",
       "      <th>summary</th>\n",
       "      <th>rating</th>\n",
       "      <th>claim</th>\n",
       "    </tr>\n",
       "  </thead>\n",
       "  <tbody>\n",
       "    <tr>\n",
       "      <th>0</th>\n",
       "      <td>news_reviews_00000</td>\n",
       "      <td>https://www.healthnewsreview.org/news-release-...</td>\n",
       "      <td>2018-12-29 05:00:00</td>\n",
       "      <td>Tiny implantable device short-circuits hunger ...</td>\n",
       "      <td>[MADISON, Wis. -- More than 700 million adults...</td>\n",
       "      <td>This news release speculates that a study in r...</td>\n",
       "      <td>UW-Madison graduate student Guang Yao (left) a...</td>\n",
       "      <td>2</td>\n",
       "      <td>fake</td>\n",
       "    </tr>\n",
       "    <tr>\n",
       "      <th>1</th>\n",
       "      <td>news_reviews_00001</td>\n",
       "      <td>https://www.healthnewsreview.org/news-release-...</td>\n",
       "      <td>2018-12-29 05:00:00</td>\n",
       "      <td>Scientists report CRISPR restores effectivenes...</td>\n",
       "      <td>[Wilmington, DE, December 17, 2018 - The CRISP...</td>\n",
       "      <td>This release needed a strong caution that obse...</td>\n",
       "      <td>This news release reports on preliminary resea...</td>\n",
       "      <td>3</td>\n",
       "      <td>real</td>\n",
       "    </tr>\n",
       "  </tbody>\n",
       "</table>\n",
       "</div>"
      ],
      "text/plain": [
       "              news_id                                               link  \\\n",
       "0  news_reviews_00000  https://www.healthnewsreview.org/news-release-...   \n",
       "1  news_reviews_00001  https://www.healthnewsreview.org/news-release-...   \n",
       "\n",
       "          publish_date                                              title  \\\n",
       "0  2018-12-29 05:00:00  Tiny implantable device short-circuits hunger ...   \n",
       "1  2018-12-29 05:00:00  Scientists report CRISPR restores effectivenes...   \n",
       "\n",
       "                                                news  \\\n",
       "0  [MADISON, Wis. -- More than 700 million adults...   \n",
       "1  [Wilmington, DE, December 17, 2018 - The CRISP...   \n",
       "\n",
       "                                         description  \\\n",
       "0  This news release speculates that a study in r...   \n",
       "1  This release needed a strong caution that obse...   \n",
       "\n",
       "                                             summary  rating claim  \n",
       "0  UW-Madison graduate student Guang Yao (left) a...       2  fake  \n",
       "1  This news release reports on preliminary resea...       3  real  "
      ]
     },
     "execution_count": 10,
     "metadata": {},
     "output_type": "execute_result"
    }
   ],
   "source": [
    "hr_df.head(2)"
   ]
  },
  {
   "cell_type": "markdown",
   "id": "897a62c0-6b88-4905-b270-b3a4b0458ea6",
   "metadata": {
    "tags": []
   },
   "source": [
    "# FakeHealth = HealthStory + HealthReview"
   ]
  },
  {
   "cell_type": "code",
   "execution_count": 11,
   "id": "3a3020d4-4f35-4e21-938d-be44fd1fddd3",
   "metadata": {},
   "outputs": [
    {
     "data": {
      "text/plain": [
       "((1498, 9), (594, 9))"
      ]
     },
     "execution_count": 11,
     "metadata": {},
     "output_type": "execute_result"
    }
   ],
   "source": [
    "hs_df.shape, hr_df.shape"
   ]
  },
  {
   "cell_type": "code",
   "execution_count": 12,
   "id": "2518b27c-bc8c-4c6f-ab0e-b4f7b14c9d28",
   "metadata": {},
   "outputs": [
    {
     "data": {
      "text/plain": [
       "real    1386\n",
       "fake     706\n",
       "Name: claim, dtype: int64"
      ]
     },
     "execution_count": 12,
     "metadata": {},
     "output_type": "execute_result"
    }
   ],
   "source": [
    "fakehealth_df = pd.concat([hs_df, hr_df], ignore_index=True)\n",
    "\n",
    "fakehealth_df['claim'].value_counts()"
   ]
  },
  {
   "cell_type": "code",
   "execution_count": 13,
   "id": "7c1d67f8-8d8f-4b8d-bf59-66be15b904e1",
   "metadata": {},
   "outputs": [],
   "source": [
    "fakehealth_df.to_csv(\"../dataset/FakeHealth.csv\", index=False)"
   ]
  },
  {
   "cell_type": "code",
   "execution_count": 14,
   "id": "8c91b2b5-2172-46f8-b47e-4c2a7c1afdb8",
   "metadata": {},
   "outputs": [
    {
     "name": "stdout",
     "output_type": "stream",
     "text": [
      "Train Set:\n",
      " (1569, 9)\n",
      "real    1040\n",
      "fake     529\n",
      "Name: claim, dtype: int64\n",
      "\n",
      "Test Set:\n",
      " (523, 9)\n",
      "real    346\n",
      "fake    177\n",
      "Name: claim, dtype: int64\n"
     ]
    }
   ],
   "source": [
    "from sklearn.model_selection import train_test_split\n",
    "\n",
    "train_df, test_df = train_test_split(fakehealth_df, test_size=0.25, random_state=42, stratify=fakehealth_df['claim'])\n",
    "\n",
    "print(\"Train Set:\\n\", train_df.shape)\n",
    "print(train_df['claim'].value_counts())\n",
    "print(\"\\nTest Set:\\n\", test_df.shape)\n",
    "print(test_df['claim'].value_counts())\n",
    "\n",
    "train_df.to_csv(\"../dataset/FakeHealth_train.csv\", index=False)\n",
    "test_df.to_csv(\"../dataset/FakeHealth_test.csv\", index=False)"
   ]
  },
  {
   "cell_type": "markdown",
   "id": "f8c6f042-b5a7-4cde-a1b0-2a34700bb85b",
   "metadata": {},
   "source": [
    "# ReCOVery"
   ]
  },
  {
   "cell_type": "code",
   "execution_count": 30,
   "id": "31ed3aaa-5adf-49b8-b60e-d0f886ed96b6",
   "metadata": {},
   "outputs": [
    {
     "data": {
      "text/plain": [
       "1    1364\n",
       "0     665\n",
       "Name: reliability, dtype: int64"
      ]
     },
     "execution_count": 30,
     "metadata": {},
     "output_type": "execute_result"
    }
   ],
   "source": [
    "data = pd.read_csv(\"../dataset/raw_data/recovery-news-data.csv\")[['news_id', 'url', 'publish_date', 'title', 'body_text',  'reliability']]\n",
    "\n",
    "data['reliability'].value_counts()"
   ]
  },
  {
   "cell_type": "code",
   "execution_count": 31,
   "id": "20f65548-8731-4223-9407-e1134e00901c",
   "metadata": {},
   "outputs": [],
   "source": [
    "data.rename(columns={'reliability': 'claim', 'body_text':'news', 'url': 'link'}, inplace=True)"
   ]
  },
  {
   "cell_type": "code",
   "execution_count": 32,
   "id": "61ace6e9-0211-4a8a-9557-1aac0adedc92",
   "metadata": {},
   "outputs": [],
   "source": [
    "def map_labels(text):\n",
    "    if text == 0:\n",
    "        return 'fake'\n",
    "    return 'real'\n",
    "\n",
    "data['claim'] = data['claim'].apply(map_labels)"
   ]
  },
  {
   "cell_type": "code",
   "execution_count": 33,
   "id": "2398225e-5db1-497b-9a3f-f19983211098",
   "metadata": {},
   "outputs": [
    {
     "data": {
      "text/plain": [
       "real    1364\n",
       "fake     665\n",
       "Name: claim, dtype: int64"
      ]
     },
     "execution_count": 33,
     "metadata": {},
     "output_type": "execute_result"
    }
   ],
   "source": [
    "data['claim'].value_counts()"
   ]
  },
  {
   "cell_type": "code",
   "execution_count": 34,
   "id": "4cc79886-53e7-41c4-a134-49ea4b919c85",
   "metadata": {},
   "outputs": [
    {
     "data": {
      "text/html": [
       "<div>\n",
       "<style scoped>\n",
       "    .dataframe tbody tr th:only-of-type {\n",
       "        vertical-align: middle;\n",
       "    }\n",
       "\n",
       "    .dataframe tbody tr th {\n",
       "        vertical-align: top;\n",
       "    }\n",
       "\n",
       "    .dataframe thead th {\n",
       "        text-align: right;\n",
       "    }\n",
       "</style>\n",
       "<table border=\"1\" class=\"dataframe\">\n",
       "  <thead>\n",
       "    <tr style=\"text-align: right;\">\n",
       "      <th></th>\n",
       "      <th>news_id</th>\n",
       "      <th>link</th>\n",
       "      <th>publish_date</th>\n",
       "      <th>title</th>\n",
       "      <th>news</th>\n",
       "      <th>claim</th>\n",
       "    </tr>\n",
       "  </thead>\n",
       "  <tbody>\n",
       "    <tr>\n",
       "      <th>0</th>\n",
       "      <td>0</td>\n",
       "      <td>https://www.nytimes.com/article/what-is-corona...</td>\n",
       "      <td>2020-01-21</td>\n",
       "      <td>The Coronavirus: What Scientists Have Learned ...</td>\n",
       "      <td>\\nA novel respiratory virus that originated in...</td>\n",
       "      <td>real</td>\n",
       "    </tr>\n",
       "    <tr>\n",
       "      <th>1</th>\n",
       "      <td>1</td>\n",
       "      <td>https://www.npr.org/2020/01/22/798392172/chine...</td>\n",
       "      <td>2020-01-22</td>\n",
       "      <td>Chinese Health Officials: More Die From Newly ...</td>\n",
       "      <td>Chinese Health Officials: More Die From Newly ...</td>\n",
       "      <td>real</td>\n",
       "    </tr>\n",
       "    <tr>\n",
       "      <th>2</th>\n",
       "      <td>2</td>\n",
       "      <td>https://www.theverge.com/2020/1/23/21078457/co...</td>\n",
       "      <td>2020-01-23</td>\n",
       "      <td>Everything you need to know about the coronavirus</td>\n",
       "      <td>Public health experts around the globe are scr...</td>\n",
       "      <td>real</td>\n",
       "    </tr>\n",
       "  </tbody>\n",
       "</table>\n",
       "</div>"
      ],
      "text/plain": [
       "   news_id                                               link publish_date  \\\n",
       "0        0  https://www.nytimes.com/article/what-is-corona...   2020-01-21   \n",
       "1        1  https://www.npr.org/2020/01/22/798392172/chine...   2020-01-22   \n",
       "2        2  https://www.theverge.com/2020/1/23/21078457/co...   2020-01-23   \n",
       "\n",
       "                                               title  \\\n",
       "0  The Coronavirus: What Scientists Have Learned ...   \n",
       "1  Chinese Health Officials: More Die From Newly ...   \n",
       "2  Everything you need to know about the coronavirus   \n",
       "\n",
       "                                                news claim  \n",
       "0  \\nA novel respiratory virus that originated in...  real  \n",
       "1  Chinese Health Officials: More Die From Newly ...  real  \n",
       "2  Public health experts around the globe are scr...  real  "
      ]
     },
     "execution_count": 34,
     "metadata": {},
     "output_type": "execute_result"
    }
   ],
   "source": [
    "data.to_csv(\"../dataset/ReCOVery.csv\", index=False)\n",
    "data.head(3)"
   ]
  },
  {
   "cell_type": "code",
   "execution_count": 35,
   "id": "ff422178-accf-4b48-917b-55813069358e",
   "metadata": {},
   "outputs": [
    {
     "name": "stdout",
     "output_type": "stream",
     "text": [
      "Train Set:\n",
      " (1521, 6)\n",
      "real    1022\n",
      "fake     499\n",
      "Name: claim, dtype: int64\n",
      "\n",
      "Test Set:\n",
      " (508, 6)\n",
      "real    342\n",
      "fake    166\n",
      "Name: claim, dtype: int64\n"
     ]
    }
   ],
   "source": [
    "from sklearn.model_selection import train_test_split\n",
    "\n",
    "train_df, test_df = train_test_split(data, test_size=0.25, random_state=42, stratify=data['claim'])\n",
    "\n",
    "print(\"Train Set:\\n\", train_df.shape)\n",
    "print(train_df['claim'].value_counts())\n",
    "print(\"\\nTest Set:\\n\", test_df.shape)\n",
    "print(test_df['claim'].value_counts())\n",
    "\n",
    "train_df.to_csv(\"../dataset/ReCOVery_train.csv\", index=False)\n",
    "test_df.to_csv(\"../dataset/ReCOVery_test.csv\", index=False)"
   ]
  },
  {
   "cell_type": "code",
   "execution_count": null,
   "id": "c3ed96fc-6f34-4686-a676-7ef8a08bdbd7",
   "metadata": {},
   "outputs": [],
   "source": []
  }
 ],
 "metadata": {
  "kernelspec": {
   "display_name": "Python 3",
   "language": "python",
   "name": "python3"
  },
  "language_info": {
   "codemirror_mode": {
    "name": "ipython",
    "version": 3
   },
   "file_extension": ".py",
   "mimetype": "text/x-python",
   "name": "python",
   "nbconvert_exporter": "python",
   "pygments_lexer": "ipython3",
   "version": "3.9.16"
  }
 },
 "nbformat": 4,
 "nbformat_minor": 5
}
